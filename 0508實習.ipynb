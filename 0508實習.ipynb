{
  "nbformat": 4,
  "nbformat_minor": 0,
  "metadata": {
    "colab": {
      "provenance": [],
      "authorship_tag": "ABX9TyOdqSWI/qRLJ2wkURnKPzs4",
      "include_colab_link": true
    },
    "kernelspec": {
      "name": "python3",
      "display_name": "Python 3"
    },
    "language_info": {
      "name": "python"
    }
  },
  "cells": [
    {
      "cell_type": "markdown",
      "metadata": {
        "id": "view-in-github",
        "colab_type": "text"
      },
      "source": [
        "<a href=\"https://colab.research.google.com/github/Wufenghsuan/TKU-AI-412570391/blob/main/0508%E5%AF%A6%E7%BF%92.ipynb\" target=\"_parent\"><img src=\"https://colab.research.google.com/assets/colab-badge.svg\" alt=\"Open In Colab\"/></a>"
      ]
    },
    {
      "cell_type": "code",
      "execution_count": 1,
      "metadata": {
        "colab": {
          "base_uri": "https://localhost:8080/"
        },
        "id": "CoNPWhWJFnI7",
        "outputId": "5736c554-e23c-454b-edfa-c8cf18095252"
      },
      "outputs": [
        {
          "output_type": "stream",
          "name": "stdout",
          "text": [
            "請輸入年齡23\n",
            "歡迎購買菸酒\n"
          ]
        }
      ],
      "source": [
        "age = input(\"請輸入年齡\")\n",
        "if(int(age)<20):\n",
        "  print(\"你年齡大小\")\n",
        "  print(\"需年滿20歲才可以買菸酒\")\n",
        "else:\n",
        "  print(\"歡迎購買菸酒\")"
      ]
    },
    {
      "cell_type": "code",
      "source": [
        "age = input(\"請輸入年齡\")\n",
        "if(int(age)<20):\n",
        "  print(\"你年齡大小\")\n",
        "  print(\"需年滿20歲才可以買菸酒\")\n",
        "else:\n",
        "  print(\"歡迎購買菸酒\")"
      ],
      "metadata": {
        "colab": {
          "base_uri": "https://localhost:8080/"
        },
        "id": "8K_zqbC6HEPP",
        "outputId": "25c729eb-0642-4a5d-9aed-7353ed4f3edc"
      },
      "execution_count": 2,
      "outputs": [
        {
          "output_type": "stream",
          "name": "stdout",
          "text": [
            "請輸入年齡19\n",
            "你年齡大小\n",
            "需年滿20歲才可以買菸酒\n"
          ]
        }
      ]
    },
    {
      "cell_type": "code",
      "source": [
        "print(\"計算最終成績\")\n",
        "score = input(\"請輸入分數\")\n",
        "sc = int(score)\n",
        "if(sc>=90):\n",
        "  print(\"A\")\n",
        "elif(sc>=80):\n",
        "  print(\"B\")\n",
        "elif(sc>=70):\n",
        "  print(\"C\")\n",
        "elif(sc>=60):\n",
        "  print(\"D\")\n",
        "else:\n",
        "  print(\"F\")\n",
        "\n"
      ],
      "metadata": {
        "colab": {
          "base_uri": "https://localhost:8080/"
        },
        "id": "zI0-t5EBHEq2",
        "outputId": "baed4df8-3f1a-45b9-9931-13974fd37a71"
      },
      "execution_count": 3,
      "outputs": [
        {
          "output_type": "stream",
          "name": "stdout",
          "text": [
            "計算最終成績\n",
            "請輸入分數91\n",
            "A\n"
          ]
        }
      ]
    },
    {
      "cell_type": "code",
      "source": [
        "print(\"判斷年分是否閏年\")\n",
        "year = int(input(\"請輸入年分:\"))\n",
        "rem4 = year % 4\n",
        "rem100 = year % 100\n",
        "rem400 = year % 400\n",
        "if rem4 == 0:\n",
        "  if rem100 != 0 or rem400 == 0:\n",
        "    print(\"是閏年:\",year)\n",
        "  else:\n",
        "    print(\"是平年:\",year)\n",
        "\n",
        "\n"
      ],
      "metadata": {
        "colab": {
          "base_uri": "https://localhost:8080/"
        },
        "id": "iuBUFHxiHE9W",
        "outputId": "aa9467f3-414d-44e0-a450-ccea3fd53a9e"
      },
      "execution_count": 7,
      "outputs": [
        {
          "output_type": "stream",
          "name": "stdout",
          "text": [
            "判斷年分是否閏年\n",
            "請輸入年分:2020\n",
            "是閏年: 2020\n"
          ]
        }
      ]
    },
    {
      "cell_type": "code",
      "source": [
        "a = int(input())\n",
        "if(a>= 0):\n",
        "  if(a % 2 == 0):\n",
        "    print(\"{} is even\".format(a))\n",
        "  else:\n",
        "      print(\"{} is odd\".format(a))\n",
        "else:\n",
        "  print(\"Input Error\")"
      ],
      "metadata": {
        "colab": {
          "base_uri": "https://localhost:8080/"
        },
        "id": "om_3Uw9aHFfO",
        "outputId": "eba8b4e2-7224-4345-87ae-c601157caebc"
      },
      "execution_count": 10,
      "outputs": [
        {
          "output_type": "stream",
          "name": "stdout",
          "text": [
            "8\n",
            "8 is even\n"
          ]
        }
      ]
    },
    {
      "cell_type": "code",
      "source": [],
      "metadata": {
        "id": "WDNXaQtoHFuW"
      },
      "execution_count": null,
      "outputs": []
    },
    {
      "cell_type": "code",
      "source": [],
      "metadata": {
        "id": "SJT2wWTwHF6u"
      },
      "execution_count": null,
      "outputs": []
    },
    {
      "cell_type": "code",
      "source": [],
      "metadata": {
        "id": "YaJwsUrwG-64"
      },
      "execution_count": null,
      "outputs": []
    }
  ]
}